{
 "cells": [
  {
   "cell_type": "code",
   "execution_count": 1,
   "id": "c7c34c56",
   "metadata": {},
   "outputs": [
    {
     "name": "stdout",
     "output_type": "stream",
     "text": [
      "5\n"
     ]
    }
   ],
   "source": [
    "#Python program to declare variables\n",
    "Mynumber = 5\n",
    "print(Mynumber)"
   ]
  },
  {
   "cell_type": "code",
   "execution_count": 2,
   "id": "909a9617",
   "metadata": {},
   "outputs": [
    {
     "name": "stdout",
     "output_type": "stream",
     "text": [
      "2.4\n"
     ]
    }
   ],
   "source": [
    "Mynumber = 2.4\n",
    "print(Mynumber)"
   ]
  },
  {
   "cell_type": "code",
   "execution_count": 3,
   "id": "6c0e89f4",
   "metadata": {},
   "outputs": [
    {
     "name": "stdout",
     "output_type": "stream",
     "text": [
      "Bhavesh\n"
     ]
    }
   ],
   "source": [
    "Mytext = 'Bhavesh'\n",
    "print(Mytext)"
   ]
  },
  {
   "cell_type": "code",
   "execution_count": 4,
   "id": "c77fcc05",
   "metadata": {},
   "outputs": [
    {
     "name": "stdout",
     "output_type": "stream",
     "text": [
      "[21, 27.5, 'Bhavesh']\n"
     ]
    }
   ],
   "source": [
    "#Python program to illustrate a list\n",
    "#Create a empty list\n",
    "num=[]\n",
    "#Appending a data in list\n",
    "#append() : function is used to add data to the list.\n",
    "num.append(21)\n",
    "num.append(27.5)\n",
    "num.append('Bhavesh')\n",
    "\n",
    "print(num)"
   ]
  },
  {
   "cell_type": "code",
   "execution_count": 5,
   "id": "193a361f",
   "metadata": {},
   "outputs": [
    {
     "name": "stdout",
     "output_type": "stream",
     "text": [
      "Enter your name: Bhavesh\n",
      "Hello Bhavesh\n"
     ]
    }
   ],
   "source": [
    "#Illustrate getting input from the user\n",
    "name = input('Enter your name: ')\n",
    "#User enter the name Bhavesh\n",
    "print('Hello', name)"
   ]
  },
  {
   "cell_type": "code",
   "execution_count": 6,
   "id": "2f56b5ad",
   "metadata": {},
   "outputs": [
    {
     "name": "stdout",
     "output_type": "stream",
     "text": [
      "Enter num1 value:5\n",
      "Enter num2 value:9\n",
      "Product is 45\n"
     ]
    }
   ],
   "source": [
    "#Prograam to get input from user\n",
    "#The return type of input() is string, so we need to convert the input to integer\n",
    "num1 = int(input('Enter num1 value:'))\n",
    "num2 = int(input('Enter num2 value:'))\n",
    "num3 = num1 * num2\n",
    "\n",
    "print('Product is',num3)"
   ]
  },
  {
   "cell_type": "code",
   "execution_count": null,
   "id": "9a07bc1d",
   "metadata": {},
   "outputs": [],
   "source": []
  }
 ],
 "metadata": {
  "kernelspec": {
   "display_name": "Python 3",
   "language": "python",
   "name": "python3"
  },
  "language_info": {
   "codemirror_mode": {
    "name": "ipython",
    "version": 3
   },
   "file_extension": ".py",
   "mimetype": "text/x-python",
   "name": "python",
   "nbconvert_exporter": "python",
   "pygments_lexer": "ipython3",
   "version": "3.8.8"
  }
 },
 "nbformat": 4,
 "nbformat_minor": 5
}
